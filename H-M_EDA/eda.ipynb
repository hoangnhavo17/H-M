{
 "cells": [
  {
   "cell_type": "code",
   "execution_count": 1,
   "metadata": {},
   "outputs": [],
   "source": [
    "import numpy as np\n",
    "import pandas as pd"
   ]
  },
  {
   "cell_type": "code",
   "execution_count": 2,
   "metadata": {},
   "outputs": [],
   "source": [
    "# https://www.kaggle.com/code/gemartin/load-data-reduce-memory-usage\n",
    "def reduce_mem_usage(df):\n",
    "    \"\"\" iterate through all the columns of a dataframe and modify the data type\n",
    "        to reduce memory usage.        \n",
    "    \"\"\"\n",
    "    start_mem = df.memory_usage().sum() / 1024**2\n",
    "    print('Memory usage of dataframe is {:.2f} MB'.format(start_mem))\n",
    "    \n",
    "    for col in df.columns:\n",
    "        col_type = df[col].dtype\n",
    "        \n",
    "        if col_type != object:\n",
    "            c_min = df[col].min()\n",
    "            c_max = df[col].max()\n",
    "            if str(col_type)[:3] == 'int':\n",
    "                if c_min > np.iinfo(np.int8).min and c_max < np.iinfo(np.int8).max:\n",
    "                    df[col] = df[col].astype(np.int8)\n",
    "                elif c_min > np.iinfo(np.int16).min and c_max < np.iinfo(np.int16).max:\n",
    "                    df[col] = df[col].astype(np.int16)\n",
    "                elif c_min > np.iinfo(np.int32).min and c_max < np.iinfo(np.int32).max:\n",
    "                    df[col] = df[col].astype(np.int32)\n",
    "                elif c_min > np.iinfo(np.int64).min and c_max < np.iinfo(np.int64).max:\n",
    "                    df[col] = df[col].astype(np.int64)  \n",
    "            else:\n",
    "                if c_min > np.finfo(np.float16).min and c_max < np.finfo(np.float16).max:\n",
    "                    df[col] = df[col].astype(np.float16)\n",
    "                elif c_min > np.finfo(np.float32).min and c_max < np.finfo(np.float32).max:\n",
    "                    df[col] = df[col].astype(np.float32)\n",
    "                else:\n",
    "                    df[col] = df[col].astype(np.float64)\n",
    "        elif col != 't_dat':\n",
    "            df[col] = df[col].astype('category')\n",
    "\n",
    "    end_mem = df.memory_usage().sum() / 1024**2\n",
    "    print('Memory usage after optimization is: {:.2f} MB'.format(end_mem))\n",
    "    print('Decreased by {:.1f}%'.format(100 * (start_mem - end_mem) / start_mem))\n",
    "    \n",
    "    return df\n",
    "\n",
    "\n",
    "def import_data(file):\n",
    "    \"\"\"create a dataframe and optimize its memory usage\"\"\"\n",
    "    df = pd.read_csv(file, parse_dates=True, keep_date_col=True)\n",
    "    df = reduce_mem_usage(df)\n",
    "    return df"
   ]
  },
  {
   "cell_type": "markdown",
   "metadata": {},
   "source": [
    "# Step 1 - Preprocessing"
   ]
  },
  {
   "cell_type": "code",
   "execution_count": 4,
   "metadata": {},
   "outputs": [
    {
     "name": "stdout",
     "output_type": "stream",
     "text": [
      "--------------------------------------------------------------------------------\n",
      "articles\n",
      "Memory usage of dataframe is 20.13 MB\n",
      "Memory usage after optimization is: 7.25 MB\n",
      "Decreased by 64.0%\n",
      "--------------------------------------------------------------------------------\n",
      "customers's memory usage will be better off without the memory optimization\n",
      "--------------------------------------------------------------------------------\n",
      "transactions\n",
      "Memory usage of dataframe is 1212.63 MB\n",
      "Memory usage after optimization is: 618.64 MB\n",
      "Decreased by 49.0%\n"
     ]
    }
   ],
   "source": [
    "input_path_prefix = \"../../../DSCI-599/Final-Project/Data/\"\n",
    "\n",
    "print('-' * 80)\n",
    "print('articles')\n",
    "pre_articles = import_data(input_path_prefix + \"articles.csv\")\n",
    "#pre_articles = pd.read_csv('Data/articles.csv')\n",
    "print('-' * 80)\n",
    "print('customers\\'s memory usage will be better off without the memory optimization')\n",
    "pre_customers = pd.read_csv(input_path_prefix + \"customers.csv\")\n",
    "#pre_customers = pd.read_csv('Data/customers.csv')\n",
    "print('-' * 80)\n",
    "print('transactions')\n",
    "pre_transactions = import_data(input_path_prefix + \"transactions_train.csv\")\n",
    "#pre_transactions = pd.read_csv('Data/transactions_train.csv')"
   ]
  },
  {
   "cell_type": "markdown",
   "metadata": {},
   "source": [
    "# Step 1.1 - Articles"
   ]
  },
  {
   "cell_type": "markdown",
   "metadata": {},
   "source": [
    "# Step 1.2 - Customers\n",
    "\n",
    "Customers data description:\n",
    "\n",
    "* customer_id : A unique identifier of every customer\n",
    "* FN : 1 or missed\n",
    "* Active : 1 or missed\n",
    "* club_member_status : Status in club\n",
    "* fashion_news_frequency : How often H&M may send news to customer\n",
    "* age : The current age\n",
    "* postal_code : Postal code of customer"
   ]
  },
  {
   "cell_type": "markdown",
   "metadata": {},
   "source": [
    "# Step 1.3 - Transactions\n",
    "\n",
    "Transactions field description:\n",
    "\n",
    "* t_dat : Purchase date\n",
    "* day_of_week: Purchase day of week (Monday: 1, Tue: 2, …, Sun: 7) (This is a new field we added on top of the orignal dataset)\n",
    "* customer_id : A unique identifier of every customer (in customers table)\n",
    "* article_id : A unique identifier of every article (in articles table)\n",
    "* price : Purchase price\n",
    "* sales_channel_id : 1 or 2 (1 is store and 2 is online, ref: https://www.kaggle.com/c/h-and-m-personalized-fashion-recommendations/discussion/305952#1684481) => It is transformed into sales_channel field with 1 is In-store and 2 is Online"
   ]
  }
 ],
 "metadata": {
  "kernelspec": {
   "display_name": "Python 3",
   "language": "python",
   "name": "python3"
  },
  "language_info": {
   "codemirror_mode": {
    "name": "ipython",
    "version": 3
   },
   "file_extension": ".py",
   "mimetype": "text/x-python",
   "name": "python",
   "nbconvert_exporter": "python",
   "pygments_lexer": "ipython3",
   "version": "3.10.0"
  }
 },
 "nbformat": 4,
 "nbformat_minor": 2
}
